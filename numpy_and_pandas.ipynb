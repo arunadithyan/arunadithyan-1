{
  "nbformat": 4,
  "nbformat_minor": 0,
  "metadata": {
    "colab": {
      "provenance": [],
      "collapsed_sections": [],
      "mount_file_id": "12esJpRGb_r-_uct1B8y06-FA-gMBc7Q1",
      "authorship_tag": "ABX9TyOwNsWAsBb4FrPR0WPJPZGY",
      "include_colab_link": true
    },
    "kernelspec": {
      "name": "python3",
      "display_name": "Python 3"
    },
    "language_info": {
      "name": "python"
    }
  },
  "cells": [
    {
      "cell_type": "markdown",
      "metadata": {
        "id": "view-in-github",
        "colab_type": "text"
      },
      "source": [
        "<a href=\"https://colab.research.google.com/github/arunadithyan/arunadithyan-1/blob/main/numpy_and_pandas.ipynb\" target=\"_parent\"><img src=\"https://colab.research.google.com/assets/colab-badge.svg\" alt=\"Open In Colab\"/></a>"
      ]
    },
    {
      "cell_type": "markdown",
      "source": [
        "to install any module"
      ],
      "metadata": {
        "id": "2n9Xl4kfT52k"
      }
    },
    {
      "cell_type": "markdown",
      "source": [
        "**seachsorting the array for multidimensional **"
      ],
      "metadata": {
        "id": "iz278H30TkGu"
      }
    },
    {
      "cell_type": "code",
      "execution_count": null,
      "metadata": {
        "colab": {
          "base_uri": "https://localhost:8080/"
        },
        "id": "bDXbt22M1WS5",
        "outputId": "efb0156e-5e5f-45e6-da3e-b6b3b19073a4"
      },
      "outputs": [
        {
          "output_type": "stream",
          "name": "stdout",
          "text": [
            "(1, 1, 4)\n",
            "[[['0' '1' '2' 'aerun']]]\n",
            "[[0 0 0 1]]\n"
          ]
        }
      ],
      "source": [
        "import numpy as n\n",
        "arr=n.array([[[1,2,'aerun',0]]])\n",
        "print(arr.shape)\n",
        "print(n.sort(arr))\n",
        "#print(n.searchsorted(arr,1))\n",
        "print(n.apply_along_axis(lambda a: a.searchsorted(1), axis = 1, arr = arr))"
      ]
    },
    {
      "cell_type": "markdown",
      "source": [
        "for generating random numbers in numpy"
      ],
      "metadata": {
        "id": "JfzI1c9eYx_7"
      }
    },
    {
      "cell_type": "code",
      "source": [
        "from numpy import random\n",
        "x=random.randint(100)\n",
        "print(x)\n",
        "y=random.randint(100,size=(5)) #single\n",
        "print(y)\n",
        "z=random.randint(100,size=(3,2)) #multidimrnsional\n",
        "print(z)\n",
        "a=random.choice([1,2,3,4,5])\n",
        "print(a)\n",
        "b=random.choice([1,2,3,4,5],size=(2))\n",
        "print(b)"
      ],
      "metadata": {
        "colab": {
          "base_uri": "https://localhost:8080/"
        },
        "id": "La7M5WBoT7uz",
        "outputId": "8c3826e2-6a3a-41c1-9d25-82e77165896a"
      },
      "execution_count": null,
      "outputs": [
        {
          "output_type": "stream",
          "name": "stdout",
          "text": [
            "20\n",
            "[64 57 29 60 72]\n",
            "[[68 24]\n",
            " [ 6 50]\n",
            " [69 50]]\n",
            "4\n",
            "[2 4]\n"
          ]
        }
      ]
    },
    {
      "cell_type": "markdown",
      "source": [
        "data distribution"
      ],
      "metadata": {
        "id": "FAugDYNgi8KZ"
      }
    },
    {
      "cell_type": "code",
      "source": [
        "#p=1 for printing that complety\n",
        "#p=0 for not printing any values\n",
        "from numpy import random as r\n",
        "import numpy as np\n",
        "x=r.choice([1,2,3,4],p=[.1,.6,.3,0.0],size=(100))\n",
        "#numpy permutations\n",
        "a=np.array([1,2,3,4])\n",
        "a=r.permutation(a)\n",
        "b=r.permutation(a)\n",
        "r.shuffle(a)\n",
        "print(a)\n",
        "print(b)\n",
        "print(x)\n",
        "r.shuffle(a)  #changes the value  stored \n",
        "print(a)\n",
        "#permuations dont change the variable stored but changes the value if \n",
        "#trying to store in another variable\n",
        "\n",
        "\n",
        "\n"
      ],
      "metadata": {
        "colab": {
          "base_uri": "https://localhost:8080/"
        },
        "id": "SYQ2mItCTjpY",
        "outputId": "ec4eeabd-4670-45cc-bb66-19f44bc277ae"
      },
      "execution_count": null,
      "outputs": [
        {
          "output_type": "stream",
          "name": "stdout",
          "text": [
            "[3 2 1 4]\n",
            "[2 3 4 1]\n",
            "[2 1 2 2 2 1 3 2 2 2 2 2 2 2 2 2 2 2 2 2 3 3 2 3 2 2 2 2 2 2 2 3 2 2 2 3 2\n",
            " 2 2 2 2 3 2 3 3 3 2 2 2 3 2 2 2 2 2 3 3 3 3 2 3 3 2 3 2 2 2 2 3 3 2 2 2 3\n",
            " 2 2 2 1 3 2 2 3 2 1 2 3 2 3 2 2 3 3 2 2 2 2 2 2 3 2]\n",
            "[3 2 4 1]\n"
          ]
        }
      ]
    },
    {
      "cell_type": "markdown",
      "source": [
        "seaborn"
      ],
      "metadata": {
        "id": "LZbmGdELi8De"
      }
    },
    {
      "cell_type": "code",
      "source": [
        "import seaborn as s\n",
        "import matplotlib.pyplot as plt\n",
        "s.distplot([2,3,4,5,6],hist=True)\n",
        "plt.show()\n"
      ],
      "metadata": {
        "colab": {
          "base_uri": "https://localhost:8080/",
          "height": 320
        },
        "id": "zgqeLrl2rQzk",
        "outputId": "0b2a6639-1514-4e76-d1d1-bd80985b554c"
      },
      "execution_count": null,
      "outputs": [
        {
          "output_type": "stream",
          "name": "stderr",
          "text": [
            "/usr/local/lib/python3.7/dist-packages/seaborn/distributions.py:2619: FutureWarning: `distplot` is a deprecated function and will be removed in a future version. Please adapt your code to use either `displot` (a figure-level function with similar flexibility) or `histplot` (an axes-level function for histograms).\n",
            "  warnings.warn(msg, FutureWarning)\n"
          ]
        },
        {
          "output_type": "display_data",
          "data": {
            "text/plain": [
              "<Figure size 432x288 with 1 Axes>"
            ],
            "image/png": "[encoded data removed]"
          },
          "metadata": {
            "needs_background": "light"
          }
        }
      ]
    },
    {
      "cell_type": "markdown",
      "source": [
        "numpy distribution and mathematics"
      ],
      "metadata": {
        "id": "2b7U-q7mvIs6"
      }
    },
    {
      "cell_type": "code",
      "source": [
        "import seaborn as s\n",
        "import matplotlib.pyplot as ps\n",
        "from numpy import random\n",
        "x=random.normal(loc=2,scale=4,size=(2,3))\n",
        "print(x)\n",
        "s.distplot(x)\n",
        "plt.show()\n"
      ],
      "metadata": {
        "colab": {
          "base_uri": "https://localhost:8080/",
          "height": 355
        },
        "id": "ssIomPGsvFjO",
        "outputId": "84ed770c-bb5b-4c54-a94e-2e57cdfbf8b8"
      },
      "execution_count": null,
      "outputs": [
        {
          "output_type": "stream",
          "name": "stderr",
          "text": [
            "/usr/local/lib/python3.7/dist-packages/seaborn/distributions.py:2619: FutureWarning: `distplot` is a deprecated function and will be removed in a future version. Please adapt your code to use either `displot` (a figure-level function with similar flexibility) or `histplot` (an axes-level function for histograms).\n",
            "  warnings.warn(msg, FutureWarning)\n"
          ]
        },
        {
          "output_type": "stream",
          "name": "stdout",
          "text": [
            "[[-0.36017835  1.62734341  3.08211674]\n",
            " [ 0.50075966  4.80143745  4.03009309]]\n"
          ]
        },
        {
          "output_type": "display_data",
          "data": {
            "text/plain": [
              "<Figure size 432x288 with 1 Axes>"
            ],
            "image/png": "[encoded data removed]"
          },
          "metadata": {
            "needs_background": "light"
          }
        }
      ]
    },
    {
      "cell_type": "markdown",
      "source": [
        "binomial distributions\n",
        "n=number of trails\n",
        "p=proability\n",
        "size =aize of array"
      ],
      "metadata": {
        "id": "OTuPJWzlxIq8"
      }
    },
    {
      "cell_type": "code",
      "source": [
        "import seaborn as s\n",
        "import matplotlib.pyplot as plt\n",
        "from numpy import random as r\n",
        "x=random.binomial(n=1,p=0.5,size=10)\n",
        "print(x)\n",
        "s.distplot(x)\n",
        "plt.show"
      ],
      "metadata": {
        "colab": {
          "base_uri": "https://localhost:8080/",
          "height": 354
        },
        "id": "XjbX30lqxGUp",
        "outputId": "50262c10-769d-4619-a915-16848a5fd239"
      },
      "execution_count": null,
      "outputs": [
        {
          "output_type": "stream",
          "name": "stdout",
          "text": [
            "[1 1 0 0 1 1 0 1 0 1]\n"
          ]
        },
        {
          "output_type": "stream",
          "name": "stderr",
          "text": [
            "/usr/local/lib/python3.7/dist-packages/seaborn/distributions.py:2619: FutureWarning: `distplot` is a deprecated function and will be removed in a future version. Please adapt your code to use either `displot` (a figure-level function with similar flexibility) or `histplot` (an axes-level function for histograms).\n",
            "  warnings.warn(msg, FutureWarning)\n"
          ]
        },
        {
          "output_type": "execute_result",
          "data": {
            "text/plain": [
              "<function matplotlib.pyplot.show(*args, **kw)>"
            ]
          },
          "metadata": {},
          "execution_count": 87
        },
        {
          "output_type": "display_data",
          "data": {
            "text/plain": [
              "<Figure size 432x288 with 1 Axes>"
            ],
            "image/png": "[encoded data removed]"
          },
          "metadata": {
            "needs_background": "light"
          }
        }
      ]
    },
    {
      "cell_type": "markdown",
      "source": [
        "multi dimensional(dice)\n",
        "pvals=list of proability\n",
        "\n"
      ],
      "metadata": {
        "id": "9xRa8NBOx_qc"
      }
    },
    {
      "cell_type": "code",
      "source": [
        "import seaborn as s\n",
        "import matplotlib.pyplot as plt\n",
        "from numpy import random\n",
        "x=random.multinomial(n=6,pvals=[1/6,1/6],size=10)\n",
        "print(x)\n",
        "s.displot(x)\n",
        "plt.show()"
      ],
      "metadata": {
        "colab": {
          "base_uri": "https://localhost:8080/",
          "height": 543
        },
        "id": "Kpepn-Tlx-er",
        "outputId": "f9c948ba-46c0-404d-d14d-c62acb07437d"
      },
      "execution_count": null,
      "outputs": [
        {
          "output_type": "stream",
          "name": "stdout",
          "text": [
            "[[2 4]\n",
            " [2 4]\n",
            " [1 5]\n",
            " [3 3]\n",
            " [0 6]\n",
            " [1 5]\n",
            " [0 6]\n",
            " [1 5]\n",
            " [0 6]\n",
            " [1 5]]\n"
          ]
        },
        {
          "output_type": "display_data",
          "data": {
            "text/plain": [
              "<Figure size 402.375x360 with 1 Axes>"
            ],
            "image/png": "[encoded data removed]"
          },
          "metadata": {
            "needs_background": "light"
          }
        }
      ]
    },
    {
      "cell_type": "markdown",
      "source": [
        "exponential distribution\n",
        "scale inverse rate=1.0"
      ],
      "metadata": {
        "id": "FuBACt4uzD9F"
      }
    },
    {
      "cell_type": "code",
      "source": [
        "import seaborn as s\n",
        "import matplotlib.pyplot as plt\n",
        "from numpy import random\n",
        "x=random.exponential(scale=2,size=(2,3))\n",
        "print(x)\n",
        "s.displot(x)\n",
        "plt.show()"
      ],
      "metadata": {
        "colab": {
          "base_uri": "https://localhost:8080/",
          "height": 404
        },
        "id": "0aUOnmMSzBR3",
        "outputId": "3c47ca4d-0cb8-4a19-e7b6-da5424099d06"
      },
      "execution_count": null,
      "outputs": [
        {
          "output_type": "stream",
          "name": "stdout",
          "text": [
            "[[ 0.96874965  2.05199928  1.15182875]\n",
            " [ 2.02466435 10.50307377  1.73913684]]\n"
          ]
        },
        {
          "output_type": "display_data",
          "data": {
            "text/plain": [
              "<Figure size 402.375x360 with 1 Axes>"
            ],
            "image/png": "[encoded data removed]"
          },
          "metadata": {
            "needs_background": "light"
          }
        }
      ]
    },
    {
      "cell_type": "markdown",
      "source": [
        "uniform distribution\n",
        "a-lower bound\n",
        "b-upper bound\n"
      ],
      "metadata": {
        "id": "FwN6XQlkzmxB"
      }
    },
    {
      "cell_type": "code",
      "source": [
        "import seaborn as s\n",
        "import matplotlib.pyplot as plt\n",
        "from numpy import random\n",
        "x=random.uniform(size=(3,6))\n",
        "print(x)\n",
        "s.displot(x)\n",
        "plt.show()"
      ],
      "metadata": {
        "colab": {
          "base_uri": "https://localhost:8080/",
          "height": 421
        },
        "id": "jGRBN6gBzDmg",
        "outputId": "beba1041-0f4f-4620-862a-39736355e790"
      },
      "execution_count": null,
      "outputs": [
        {
          "output_type": "stream",
          "name": "stdout",
          "text": [
            "[[0.32124431 0.89447224 0.17823117 0.84968063 0.10824595 0.94956254]\n",
            " [0.7713253  0.52272721 0.36786535 0.60165798 0.38595125 0.7346405 ]\n",
            " [0.94821963 0.69466714 0.20914168 0.92983148 0.08838488 0.15724499]]\n"
          ]
        },
        {
          "output_type": "display_data",
          "data": {
            "text/plain": [
              "<Figure size 402.375x360 with 1 Axes>"
            ],
            "image/png": "[encoded data removed]"
          },
          "metadata": {
            "needs_background": "light"
          }
        }
      ]
    },
    {
      "cell_type": "markdown",
      "source": [
        "logistic distribution\n",
        "loc - mean\n",
        "scale-standard deviation"
      ],
      "metadata": {
        "id": "Fm4x4bal0OC6"
      }
    },
    {
      "cell_type": "code",
      "source": [
        "import seaborn as s\n",
        "import matplotlib.pyplot as plt\n",
        "from numpy import random\n",
        "x=random.logistic(loc=2,scale=4,size=10)\n",
        "print(x)\n",
        "s.histplot(x)\n",
        "plt.show()"
      ],
      "metadata": {
        "colab": {
          "base_uri": "https://localhost:8080/",
          "height": 300
        },
        "id": "Qvbd0Ojo0GHz",
        "outputId": "a1ffacb1-da4d-4abe-da93-6cec38c9fe96"
      },
      "execution_count": null,
      "outputs": [
        {
          "output_type": "stream",
          "name": "stdout",
          "text": [
            "[-2.26137937 -1.03893763  6.81245921  1.65569011  2.14016707  1.11652919\n",
            " 17.20951271  5.96494204  3.62703107 -4.92968386]\n"
          ]
        },
        {
          "output_type": "display_data",
          "data": {
            "text/plain": [
              "<Figure size 432x288 with 1 Axes>"
            ],
            "image/png": "[encoded data removed]"
          },
          "metadata": {
            "needs_background": "light"
          }
        }
      ]
    },
    {
      "cell_type": "markdown",
      "source": [
        "poisson distribution\n",
        "lam =rate of occurance"
      ],
      "metadata": {
        "id": "cW0LhwWg1KSG"
      }
    },
    {
      "cell_type": "code",
      "source": [
        "import seaborn as s\n",
        "import matplotlib.pyplot as plt\n",
        "from numpy import random\n",
        "x=random.poisson(lam=2,size=10)\n",
        "print(x)\n",
        "s.displot(x)\n",
        "plt.show()"
      ],
      "metadata": {
        "colab": {
          "base_uri": "https://localhost:8080/",
          "height": 386
        },
        "id": "tZye-HYt1Gif",
        "outputId": "b6a6e779-56e1-4d9d-85e5-ba31dedde774"
      },
      "execution_count": null,
      "outputs": [
        {
          "output_type": "stream",
          "name": "stdout",
          "text": [
            "[3 0 2 2 0 2 2 0 4 1]\n"
          ]
        },
        {
          "output_type": "display_data",
          "data": {
            "text/plain": [
              "<Figure size 360x360 with 1 Axes>"
            ],
            "image/png": "[encoded data removed]"
          },
          "metadata": {
            "needs_background": "light"
          }
        }
      ]
    },
    {
      "cell_type": "markdown",
      "source": [
        "universal function (ufuncs)\n",
        "we uses because of #vetorization to make our cpu faster to work faster on coding and also solves minor problmes automatically\n",
        "numpy"
      ],
      "metadata": {
        "id": "INyIl8uu1h2d"
      }
    },
    {
      "cell_type": "code",
      "source": [
        "# adding numbers\n",
        "x=[1,2,3,4,5]\n",
        "y=[6,5,4,6,8]\n",
        "z=[]\n",
        "for i,j in zip(x,y):\n",
        "  z.append(i+j)\n",
        "print(z)"
      ],
      "metadata": {
        "colab": {
          "base_uri": "https://localhost:8080/"
        },
        "id": "rwiHTSEi1hXD",
        "outputId": "59b08164-a5ef-4d4c-d982-8fe8724c3271"
      },
      "execution_count": null,
      "outputs": [
        {
          "output_type": "stream",
          "name": "stdout",
          "text": [
            "[7, 7, 7, 10, 13]\n"
          ]
        }
      ]
    },
    {
      "cell_type": "code",
      "source": [
        "#to make faster\n",
        "import numpy as np\n",
        "\n",
        "x=[1,2,3,4,5]\n",
        "y=[6,5,4,6,8]\n",
        "z=np.add(x,y)\n",
        "print(z)"
      ],
      "metadata": {
        "colab": {
          "base_uri": "https://localhost:8080/"
        },
        "id": "7qDKAkWM2R5a",
        "outputId": "22f4d566-0187-4b85-f42c-7574fef5d3e6"
      },
      "execution_count": null,
      "outputs": [
        {
          "output_type": "stream",
          "name": "stdout",
          "text": [
            "[ 7  7  7 10 13]\n"
          ]
        }
      ]
    },
    {
      "cell_type": "markdown",
      "source": [
        "creating universal function "
      ],
      "metadata": {
        "id": "77zCW-xj2oZY"
      }
    },
    {
      "cell_type": "code",
      "source": [
        "import numpy as np\n",
        "def myf(x,y):\n",
        "  return x+y\n",
        "myf=np.frompyfunc(myf,2,1)\n",
        "print(myf([1,2,3,4,5],[6,7,8,9,10]))"
      ],
      "metadata": {
        "colab": {
          "base_uri": "https://localhost:8080/"
        },
        "id": "4lWFvegR2ozY",
        "outputId": "ffe0fff7-e22f-471e-f664-4e81957d7e41"
      },
      "execution_count": null,
      "outputs": [
        {
          "output_type": "stream",
          "name": "stdout",
          "text": [
            "[7 9 11 13 15]\n"
          ]
        }
      ]
    },
    {
      "cell_type": "markdown",
      "source": [
        "rounding decimels \n",
        "truncation \n",
        "trunc()\n",
        "fix()"
      ],
      "metadata": {
        "id": "Ud7jwCtt3d1P"
      }
    },
    {
      "cell_type": "code",
      "source": [
        "import numpy as np\n",
        "x=np.trunc([-2.566,5.443])\n",
        "print(x)\n",
        "y=np.around([2.34,5.6],1) #round off(considering one decimal)\n",
        "print(y)\n",
        "z=np.floor([-2.8392,5.382])  #floatvalues\n",
        "print(z)\n",
        "a=np.ceil([-2.8392,5.382]) #to get round off in greater side\n",
        "print(a)"
      ],
      "metadata": {
        "colab": {
          "base_uri": "https://localhost:8080/"
        },
        "id": "n4HfJpTe3dWP",
        "outputId": "fb7f681e-21cf-4411-95fe-1d3c52a351b9"
      },
      "execution_count": null,
      "outputs": [
        {
          "output_type": "stream",
          "name": "stdout",
          "text": [
            "[-2.  5.]\n",
            "[2.3 5.6]\n",
            "[-3.  5.]\n",
            "[-2.  6.]\n"
          ]
        }
      ]
    },
    {
      "cell_type": "markdown",
      "source": [
        "more on nympy is \n",
        "lcm,gcd,trignometric\n",
        "etc"
      ],
      "metadata": {
        "id": "t38llF4J3dDE"
      }
    },
    {
      "cell_type": "markdown",
      "source": [
        "pandas"
      ],
      "metadata": {
        "id": "Ny_BIPPFCv8B"
      }
    },
    {
      "cell_type": "code",
      "source": [
        "import pandas as pd\n",
        "data={\"cars\":[\"bmw\",\"audi\"],\"ranks\":[1,5]\n",
        "}\n",
        "x=pd.DataFrame(data)\n",
        "print(x)"
      ],
      "metadata": {
        "colab": {
          "base_uri": "https://localhost:8080/"
        },
        "id": "mTxOH41vCyuQ",
        "outputId": "f64d6131-a5e0-4fae-960b-6c6b7a01ed6c"
      },
      "execution_count": null,
      "outputs": [
        {
          "output_type": "stream",
          "name": "stdout",
          "text": [
            "   cars  ranks\n",
            "0   bmw      1\n",
            "1  audi      5\n"
          ]
        }
      ]
    },
    {
      "cell_type": "markdown",
      "source": [
        "function and series of pandas"
      ],
      "metadata": {
        "id": "-HlOX6qCD8eo"
      }
    },
    {
      "cell_type": "code",
      "source": [
        "import pandas as pd\n",
        "import numpy as n\n",
        "from numpy import random\n",
        "a=[1,3,4,\"eat\",6,7]\n",
        "y=pd.Series(a)\n",
        "print(y)\n",
        "print(y[3])\n",
        "random.shuffle(a)\n",
        "print(a)\n",
        "print(y[1])"
      ],
      "metadata": {
        "colab": {
          "base_uri": "https://localhost:8080/"
        },
        "id": "ZTsjsQ89D6yT",
        "outputId": "77cd9a0f-28ce-47b9-a804-9fc5c6f2bb14"
      },
      "execution_count": null,
      "outputs": [
        {
          "output_type": "stream",
          "name": "stdout",
          "text": [
            "0      1\n",
            "1      3\n",
            "2      4\n",
            "3    eat\n",
            "4      6\n",
            "5      7\n",
            "dtype: object\n",
            "eat\n",
            "[4, 3, 'eat', 1, 6, 7]\n",
            "3\n"
          ]
        }
      ]
    },
    {
      "cell_type": "code",
      "source": [
        "import pandas as pd\n",
        "calories= {\n",
        "  \"child1\" : {\n",
        "    \"name\" : \"Emil\",\n",
        "    \"year\" : 2004\n",
        "  },\n",
        "  \"child2\" : {\n",
        "    \"name\" : \"Tobias\",\n",
        "    \"year\" : 2007\n",
        "  },\n",
        "  \"child3\" : {\n",
        "    \"name\" : \"Linus\",\n",
        "    \"year\" : 2011\n",
        "  }}\n",
        "y=pd.Series(calories)\n",
        "z=pd.DataFrame(calories)\n",
        "print(z)\n",
        "print(\"\\n\")  #difference between series and data frame\n",
        "print(y)"
      ],
      "metadata": {
        "colab": {
          "base_uri": "https://localhost:8080/"
        },
        "id": "Fqp_ZBtEE7ce",
        "outputId": "a2f11357-4506-4d08-82ce-e4ec15014ef9"
      },
      "execution_count": null,
      "outputs": [
        {
          "output_type": "stream",
          "name": "stdout",
          "text": [
            "     child1  child2 child3\n",
            "name   Emil  Tobias  Linus\n",
            "year   2004    2007   2011\n",
            "\n",
            "\n",
            "child1      {'name': 'Emil', 'year': 2004}\n",
            "child2    {'name': 'Tobias', 'year': 2007}\n",
            "child3     {'name': 'Linus', 'year': 2011}\n",
            "dtype: object\n"
          ]
        }
      ]
    },
    {
      "cell_type": "markdown",
      "source": [
        "arrange data in order"
      ],
      "metadata": {
        "id": "m1F7Rf72G2ck"
      }
    },
    {
      "cell_type": "code",
      "source": [
        " import pandas as pd\n",
        " df=pd.read_csv(\"/content/drive/MyDrive/Copy of data.csv\")\n",
        " #print(df.to_string())  #to get full values\n",
        "print(df) #0to get half values\n",
        "data={\"calories\":[420,530,345],\"duration\":[40,56,78]}\n",
        "#dl=pd.DataFrame(data)\n",
        "dl=pd.DataFrame(data,index=[\"day1\",\"day2\",\"day3\"])  #indexing\n",
        "print(dl.loc[\"day1\"])  #to get day1\n",
        "print(dl)\n",
        " "
      ],
      "metadata": {
        "colab": {
          "base_uri": "https://localhost:8080/"
        },
        "id": "3Dv7Cf-VG1zu",
        "outputId": "a191fb47-ac2f-4e01-9266-b4a5797e5a08"
      },
      "execution_count": null,
      "outputs": [
        {
          "output_type": "stream",
          "name": "stdout",
          "text": [
            "     Duration  Pulse  Maxpulse  Calories\n",
            "0          60    110       130     409.1\n",
            "1          60    117       145     479.0\n",
            "2          60    103       135     340.0\n",
            "3          45    109       175     282.4\n",
            "4          45    117       148     406.0\n",
            "..        ...    ...       ...       ...\n",
            "164        60    105       140     290.8\n",
            "165        60    110       145     300.0\n",
            "166        60    115       145     310.2\n",
            "167        75    120       150     320.4\n",
            "168        75    125       150     330.4\n",
            "\n",
            "[169 rows x 4 columns]\n",
            "calories    420\n",
            "duration     40\n",
            "Name: day1, dtype: int64\n",
            "      calories  duration\n",
            "day1       420        40\n",
            "day2       530        56\n",
            "day3       345        78\n"
          ]
        }
      ]
    },
    {
      "cell_type": "markdown",
      "source": [
        "data cleaning"
      ],
      "metadata": {
        "id": "nPGE-xeglJXB"
      }
    },
    {
      "cell_type": "code",
      "source": [
        " import pandas as pd\n",
        " df=pd.read_csv(\"/content/drive/MyDrive/Copy of dirtydata (1).csv\")\n",
        " #print(df.head(10)) #used for reading sppecific no of values if no no then deafult 5\n",
        " #print(df.tail(10)) #last 10\n",
        " #print(df.info()) #total characters and info\n",
        " #earse ie removing empty row\n",
        " #x=df.dropna() #using dropna delete the empty rows\n",
        " #print(x.to_string())\n",
        " #df.dropna(inplace=True) #to get the original data frame without changing\n",
        " #print(df)\n",
        "\n",
        " \n"
      ],
      "metadata": {
        "id": "eZhFY8S8pJzW"
      },
      "execution_count": null,
      "outputs": []
    },
    {
      "cell_type": "code",
      "source": [
        "import pandas as pd\n",
        "df=pd.read_csv(\"/content/drive/MyDrive/Copy of dirtydata (1).csv\")\n",
        "#replacing using fillna\n",
        "df.fillna(1300,inplace=True)  #replced null with 1300\n",
        "print(df)\n"
      ],
      "metadata": {
        "colab": {
          "base_uri": "https://localhost:8080/"
        },
        "id": "SNbaahfwpHuk",
        "outputId": "23505c43-0481-41fb-d543-9f57f454b742"
      },
      "execution_count": null,
      "outputs": [
        {
          "output_type": "stream",
          "name": "stdout",
          "text": [
            "    Duration          Date  Pulse  Maxpulse  Calories\n",
            "0         60  '2020/12/01'    110       130     409.1\n",
            "1         60  '2020/12/02'    117       145     479.0\n",
            "2         60  '2020/12/03'    103       135     340.0\n",
            "3         45  '2020/12/04'    109       175     282.4\n",
            "4         45  '2020/12/05'    117       148     406.0\n",
            "5         60  '2020/12/06'    102       127     300.0\n",
            "6         60  '2020/12/07'    110       136     374.0\n",
            "7        450  '2020/12/08'    104       134     253.3\n",
            "8         30  '2020/12/09'    109       133     195.1\n",
            "9         60  '2020/12/10'     98       124     269.0\n",
            "10        60  '2020/12/11'    103       147     329.3\n",
            "11        60  '2020/12/12'    100       120     250.7\n",
            "12        60  '2020/12/12'    100       120     250.7\n",
            "13        60  '2020/12/13'    106       128     345.3\n",
            "14        60  '2020/12/14'    104       132     379.3\n",
            "15        60  '2020/12/15'     98       123     275.0\n",
            "16        60  '2020/12/16'     98       120     215.2\n",
            "17        60  '2020/12/17'    100       120     300.0\n",
            "18        45  '2020/12/18'     90       112    1300.0\n",
            "19        60  '2020/12/19'    103       123     323.0\n",
            "20        45  '2020/12/20'     97       125     243.0\n",
            "21        60  '2020/12/21'    108       131     364.2\n",
            "22        45          1300    100       119     282.0\n",
            "23        60  '2020/12/23'    130       101     300.0\n",
            "24        45  '2020/12/24'    105       132     246.0\n",
            "25        60  '2020/12/25'    102       126     334.5\n",
            "26        60      20201226    100       120     250.0\n",
            "27        60  '2020/12/27'     92       118     241.0\n",
            "28        60  '2020/12/28'    103       132    1300.0\n",
            "29        60  '2020/12/29'    100       132     280.0\n",
            "30        60  '2020/12/30'    102       129     380.3\n",
            "31        60  '2020/12/31'     92       115     243.0\n"
          ]
        }
      ]
    },
    {
      "cell_type": "code",
      "source": [
        "#mean median mode  replace\n",
        "import pandas as pd\n",
        "df=pd.read_csv(\"/content/drive/MyDrive/Copy of dirtydata (1).csv\")\n",
        "x=df.mean()\n",
        "#df.fillna(x,inplace=True)\n",
        "#print(df.to_string)\n",
        "print(x) #to print medain\n",
        "y=df.median()\n",
        "print(y)\n",
        "z=df.mode()\n",
        "print(z)\n"
      ],
      "metadata": {
        "colab": {
          "base_uri": "https://localhost:8080/"
        },
        "id": "B7lJAB0dw75O",
        "outputId": "7587ec93-bf7a-4043-a9ed-d3bdcd722e0e"
      },
      "execution_count": null,
      "outputs": [
        {
          "output_type": "stream",
          "name": "stdout",
          "text": [
            "Duration     68.4375\n",
            "Pulse       103.5000\n",
            "Maxpulse    128.5000\n",
            "Calories    304.6800\n",
            "dtype: float64\n",
            "Duration     60.0\n",
            "Pulse       102.5\n",
            "Maxpulse    127.5\n",
            "Calories    291.2\n",
            "dtype: float64\n",
            "   Duration          Date  Pulse  Maxpulse  Calories\n",
            "0        60  '2020/12/12'    100       120     300.0\n"
          ]
        },
        {
          "output_type": "stream",
          "name": "stderr",
          "text": [
            "/usr/local/lib/python3.7/dist-packages/ipykernel_launcher.py:4: FutureWarning: Dropping of nuisance columns in DataFrame reductions (with 'numeric_only=None') is deprecated; in a future version this will raise TypeError.  Select only valid columns before calling the reduction.\n",
            "  after removing the cwd from sys.path.\n",
            "/usr/local/lib/python3.7/dist-packages/ipykernel_launcher.py:8: FutureWarning: Dropping of nuisance columns in DataFrame reductions (with 'numeric_only=None') is deprecated; in a future version this will raise TypeError.  Select only valid columns before calling the reduction.\n",
            "  \n"
          ]
        }
      ]
    },
    {
      "cell_type": "markdown",
      "source": [
        "cleaning data and changing format"
      ],
      "metadata": {
        "id": "kgmol7hv19Qb"
      }
    },
    {
      "cell_type": "code",
      "source": [
        "import pandas as pd\n",
        "df=pd.read_csv(\"/content/drive/MyDrive/Copy of dirtydata (1).csv\")\n",
        "df[\"Date\"]=pd.to_datetime(df[\"Date\"]) #cahnging the format of data\n",
        "#df.dropna(subset=[\"Date\"],inplace=True) #to remove only date error(specificaly)\n",
        "#print(df)\n",
        "#x=df.dropna() #to remove everything\n",
        "#print(x)\n",
        "#to short the data\n",
        "#df.loc[7,\"Duration\"]=120  #to change the specific value\n",
        "#print(df)\n",
        "'''for x in df.index:\n",
        "  if df.loc[x,\"Duration\"]>40:\n",
        "    df.loc[x,\"Duration\"]=10  #to change the complete data\n",
        "print(df)'''\n",
        "\n",
        "\n"
      ],
      "metadata": {
        "colab": {
          "base_uri": "https://localhost:8080/",
          "height": 35
        },
        "id": "UkOQ0xiq2CAw",
        "outputId": "7dc70aba-c510-4371-c646-67ab5ef869d6"
      },
      "execution_count": null,
      "outputs": [
        {
          "output_type": "execute_result",
          "data": {
            "text/plain": [
              "'for x in df.index:\\n  if df.loc[x,\"Duration\"]>40:\\n    df.loc[x,\"Duration\"]=10  #to change the complete data\\nprint(df)'"
            ],
            "application/vnd.google.colaboratory.intrinsic+json": {
              "type": "string"
            }
          },
          "metadata": {},
          "execution_count": 104
        }
      ]
    },
    {
      "cell_type": "code",
      "source": [
        "#to remove duplicate data\n",
        "import pandas as pd\n",
        "df=pd.read_csv(\"/content/drive/MyDrive/Copy of dirtydata (1).csv\")\n",
        "#x=df.duplicated()# to find true duplicates\n",
        "#print(x)\n",
        "df.drop_duplicates(inplace=True)\n",
        "print(df) #removes the duplicate not the null\n"
      ],
      "metadata": {
        "colab": {
          "base_uri": "https://localhost:8080/"
        },
        "id": "gEh_LY6n5Cvi",
        "outputId": "75edfbbe-0148-4e24-ba98-be4e5815e732"
      },
      "execution_count": null,
      "outputs": [
        {
          "output_type": "stream",
          "name": "stdout",
          "text": [
            "    Duration          Date  Pulse  Maxpulse  Calories\n",
            "0         60  '2020/12/01'    110       130     409.1\n",
            "1         60  '2020/12/02'    117       145     479.0\n",
            "2         60  '2020/12/03'    103       135     340.0\n",
            "3         45  '2020/12/04'    109       175     282.4\n",
            "4         45  '2020/12/05'    117       148     406.0\n",
            "5         60  '2020/12/06'    102       127     300.0\n",
            "6         60  '2020/12/07'    110       136     374.0\n",
            "7        450  '2020/12/08'    104       134     253.3\n",
            "8         30  '2020/12/09'    109       133     195.1\n",
            "9         60  '2020/12/10'     98       124     269.0\n",
            "10        60  '2020/12/11'    103       147     329.3\n",
            "11        60  '2020/12/12'    100       120     250.7\n",
            "13        60  '2020/12/13'    106       128     345.3\n",
            "14        60  '2020/12/14'    104       132     379.3\n",
            "15        60  '2020/12/15'     98       123     275.0\n",
            "16        60  '2020/12/16'     98       120     215.2\n",
            "17        60  '2020/12/17'    100       120     300.0\n",
            "18        45  '2020/12/18'     90       112       NaN\n",
            "19        60  '2020/12/19'    103       123     323.0\n",
            "20        45  '2020/12/20'     97       125     243.0\n",
            "21        60  '2020/12/21'    108       131     364.2\n",
            "22        45           NaN    100       119     282.0\n",
            "23        60  '2020/12/23'    130       101     300.0\n",
            "24        45  '2020/12/24'    105       132     246.0\n",
            "25        60  '2020/12/25'    102       126     334.5\n",
            "26        60      20201226    100       120     250.0\n",
            "27        60  '2020/12/27'     92       118     241.0\n",
            "28        60  '2020/12/28'    103       132       NaN\n",
            "29        60  '2020/12/29'    100       132     280.0\n",
            "30        60  '2020/12/30'    102       129     380.3\n",
            "31        60  '2020/12/31'     92       115     243.0\n"
          ]
        }
      ]
    },
    {
      "cell_type": "code",
      "source": [
        "import pandas as pd\n",
        "df=pd.read_csv(\"/content/drive/MyDrive/Copy of dirtydata (1).csv\")\n",
        "#to save the modified data\n",
        "df[\"Date\"]=pd.to_datetime(df[\"Date\"])\n",
        "df.loc[7,\"Duration\"]=40\n",
        "x=df.dropna()\n",
        "print(x)\n",
        "print(x.mean())\n",
        "\n",
        "df.to_csv(\"firstdata.csv\")\n"
      ],
      "metadata": {
        "colab": {
          "base_uri": "https://localhost:8080/"
        },
        "id": "eu-_Kscj5_58",
        "outputId": "1894766e-b8a5-4e77-fcd0-d1ae89ef82b7"
      },
      "execution_count": null,
      "outputs": [
        {
          "output_type": "stream",
          "name": "stdout",
          "text": [
            "    Duration       Date  Pulse  Maxpulse  Calories\n",
            "0         60 2020-12-01    110       130     409.1\n",
            "1         60 2020-12-02    117       145     479.0\n",
            "2         60 2020-12-03    103       135     340.0\n",
            "3         45 2020-12-04    109       175     282.4\n",
            "4         45 2020-12-05    117       148     406.0\n",
            "5         60 2020-12-06    102       127     300.0\n",
            "6         60 2020-12-07    110       136     374.0\n",
            "7         40 2020-12-08    104       134     253.3\n",
            "8         30 2020-12-09    109       133     195.1\n",
            "9         60 2020-12-10     98       124     269.0\n",
            "10        60 2020-12-11    103       147     329.3\n",
            "11        60 2020-12-12    100       120     250.7\n",
            "12        60 2020-12-12    100       120     250.7\n",
            "13        60 2020-12-13    106       128     345.3\n",
            "14        60 2020-12-14    104       132     379.3\n",
            "15        60 2020-12-15     98       123     275.0\n",
            "16        60 2020-12-16     98       120     215.2\n",
            "17        60 2020-12-17    100       120     300.0\n",
            "19        60 2020-12-19    103       123     323.0\n",
            "20        45 2020-12-20     97       125     243.0\n",
            "21        60 2020-12-21    108       131     364.2\n",
            "23        60 2020-12-23    130       101     300.0\n",
            "24        45 2020-12-24    105       132     246.0\n",
            "25        60 2020-12-25    102       126     334.5\n",
            "26        60 2020-12-26    100       120     250.0\n",
            "27        60 2020-12-27     92       118     241.0\n",
            "29        60 2020-12-29    100       132     280.0\n",
            "30        60 2020-12-30    102       129     380.3\n",
            "31        60 2020-12-31     92       115     243.0\n",
            "Duration     56.206897\n",
            "Pulse       104.103448\n",
            "Maxpulse    129.275862\n",
            "Calories    305.462069\n",
            "dtype: float64\n"
          ]
        },
        {
          "output_type": "stream",
          "name": "stderr",
          "text": [
            "/usr/local/lib/python3.7/dist-packages/ipykernel_launcher.py:8: FutureWarning: DataFrame.mean and DataFrame.median with numeric_only=None will include datetime64 and datetime64tz columns in a future version.\n",
            "  \n"
          ]
        }
      ]
    },
    {
      "cell_type": "code",
      "source": [
        "import pandas as pd\n",
        "df=pd.read_csv(\"/content/firstdata.csv\")\n",
        "print(df)\n",
        "#data correlation - corr()\n",
        "print(df.corr())\n",
        "#if 1 is perfect data(.9)\n",
        "#if -1 then useless data\n"
      ],
      "metadata": {
        "colab": {
          "base_uri": "https://localhost:8080/"
        },
        "id": "fsw9zfYN705y",
        "outputId": "5545d12e-ecdb-4b46-d74b-6919ae1eeb5e"
      },
      "execution_count": null,
      "outputs": [
        {
          "output_type": "stream",
          "name": "stdout",
          "text": [
            "    Unnamed: 0  Duration        Date  Pulse  Maxpulse  Calories\n",
            "0            0        60  2020-12-01    110       130     409.1\n",
            "1            1        60  2020-12-02    117       145     479.0\n",
            "2            2        60  2020-12-03    103       135     340.0\n",
            "3            3        45  2020-12-04    109       175     282.4\n",
            "4            4        45  2020-12-05    117       148     406.0\n",
            "5            5        60  2020-12-06    102       127     300.0\n",
            "6            6        60  2020-12-07    110       136     374.0\n",
            "7            7        40  2020-12-08    104       134     253.3\n",
            "8            8        30  2020-12-09    109       133     195.1\n",
            "9            9        60  2020-12-10     98       124     269.0\n",
            "10          10        60  2020-12-11    103       147     329.3\n",
            "11          11        60  2020-12-12    100       120     250.7\n",
            "12          12        60  2020-12-12    100       120     250.7\n",
            "13          13        60  2020-12-13    106       128     345.3\n",
            "14          14        60  2020-12-14    104       132     379.3\n",
            "15          15        60  2020-12-15     98       123     275.0\n",
            "16          16        60  2020-12-16     98       120     215.2\n",
            "17          17        60  2020-12-17    100       120     300.0\n",
            "18          18        45  2020-12-18     90       112       NaN\n",
            "19          19        60  2020-12-19    103       123     323.0\n",
            "20          20        45  2020-12-20     97       125     243.0\n",
            "21          21        60  2020-12-21    108       131     364.2\n",
            "22          22        45         NaN    100       119     282.0\n",
            "23          23        60  2020-12-23    130       101     300.0\n",
            "24          24        45  2020-12-24    105       132     246.0\n",
            "25          25        60  2020-12-25    102       126     334.5\n",
            "26          26        60  2020-12-26    100       120     250.0\n",
            "27          27        60  2020-12-27     92       118     241.0\n",
            "28          28        60  2020-12-28    103       132       NaN\n",
            "29          29        60  2020-12-29    100       132     280.0\n",
            "30          30        60  2020-12-30    102       129     380.3\n",
            "31          31        60  2020-12-31     92       115     243.0\n",
            "            Unnamed: 0  Duration     Pulse  Maxpulse  Calories\n",
            "Unnamed: 0    1.000000  0.180268 -0.368328 -0.518503 -0.354107\n",
            "Duration      0.180268  1.000000 -0.066037 -0.258658  0.340097\n",
            "Pulse        -0.368328 -0.066037  1.000000  0.276583  0.513186\n",
            "Maxpulse     -0.518503 -0.258658  0.276583  1.000000  0.357460\n",
            "Calories     -0.354107  0.340097  0.513186  0.357460  1.000000\n"
          ]
        }
      ]
    },
    {
      "cell_type": "code",
      "source": [
        "#for plotting the data\n",
        "import pandas as pd\n",
        "import seaborn as s\n",
        "import matplotlib.pyplot as plt\n",
        "df=pd.read_csv(\"/content/firstdata.csv\")\n",
        "df.plot()\n",
        "plt.show()\n",
        "#missing line incidates the missing data\n"
      ],
      "metadata": {
        "colab": {
          "base_uri": "https://localhost:8080/",
          "height": 268
        },
        "id": "xDeCKroX9CBq",
        "outputId": "8c10ce93-90cd-4e0c-f85e-039cdcaa9526"
      },
      "execution_count": null,
      "outputs": [
        {
          "output_type": "display_data",
          "data": {
            "text/plain": [
              "<Figure size 432x288 with 1 Axes>"
            ],
            "image/png": "[encoded data removed]"
          },
          "metadata": {
            "needs_background": "light"
          }
        }
      ]
    }
  ]
}